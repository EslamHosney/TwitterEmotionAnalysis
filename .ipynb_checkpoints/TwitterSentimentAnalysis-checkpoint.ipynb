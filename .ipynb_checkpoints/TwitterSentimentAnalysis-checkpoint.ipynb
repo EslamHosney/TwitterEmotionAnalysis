{
 "metadata": {
  "name": "",
  "signature": "sha256:2c01e14b6241ef9b84367119730496057d8f16885fc54e87088b8cc04103d9bb"
 },
 "nbformat": 3,
 "nbformat_minor": 0,
 "worksheets": [
  {
   "cells": [
    {
     "cell_type": "markdown",
     "metadata": {},
     "source": [
      "Twitter Sentiment Analysis\n",
      "===================\n",
      "----------\n",
      "\n",
      "1. Introduction\n",
      "-------------\n",
      "In this project, I would like to focus on **Sentiment Analysis** in a well studied context which is Twitter. Twitter is the most known microblogging website in the world and allow anyone to express its thoughts, opinions, and more, in 140 caracters. Due to the length limit of tweets and the time it takes to send one, tweets tend to reflect what people feel in real time.  \n",
      "\n",
      "Sentiment Analysis based on twitter can be really useful for a variety of tasks such as predicting stock markets, opinions of a product, politic outcomes and much more. The goal of this project is to be able to **classify if a given tweet is either positive or negative**.This subject has been explored many times but I would like to give a pedagogical approach where each step is described in details rather than a just a paper.\n",
      "\n",
      "2. Dataset\n",
      "-------------\n",
      "The dataset contains **1578612 tweets** coming from two sources: Kaggle and Sentiment140. There are four columns that are ItemID, Sentiment, SentimentSource and SentimentText. The Sentiment column correspond to our label class taking a binary value, **0 if the tweet is negative, 1 if the tweet is positive**.  \n",
      "Tweets have their own terminology which the following (from twitter glossary):  \n",
      "- **Hashtag**: A hashtag is any word or phrase immediately preceded by the # symbol. When you click on a hashtag, you\u2019ll see other Tweets containing the same keyword or topic.\n",
      "- **@username**: A username is how you\u2019re identified on Twitter, and is always preceded immediately by the @ symbol. For instance, Katy Perry is @katyperry.\n",
      "- **MT**: Similar to RT (Retweet), an abbreviation for \u201cModified Tweet.\u201d Placed before the Retweeted text when users manually retweet a message with modifications, for example shortening a Tweet.\n",
      "- **Retweet**: RT, A Tweet that you forward to your followers is known as a Retweet. Often used to pass along news or other valuable discoveries on Twitter, Retweets always retain original attribution.\n",
      "- **Emoticons**: Composed using punctuation and letters, they are used to express emotions concisely, \";) :) ...\"\n",
      "\n",
      "Furthermore, a tweet can also contain **acronyms** (\"OMG, WTF, ...\") as well as **spelling mistakes**.  \n",
      "All the **tweets are in english** for simplicity but we can imagine to apply the same concept for other languages.\n",
      "\n",
      "3. Visualizing The Dataset\n",
      "-------------\n",
      "The first step is to visualize our dataset to get first insights about the data and what they contain. To do so we will use graphics as much as possible because it is the best way to express measures that can be understandable for anybody.  \n",
      "Let's load our dataset and display the first ten rows,"
     ]
    },
    {
     "cell_type": "code",
     "collapsed": false,
     "input": [
      "# Import libraries that we are going to use in the project\n",
      "\n",
      "import pandas as pd\n",
      "import numpy as np\n",
      "import matplotlib.pyplot as plt\n",
      "import matplotlib.cm as cm\n",
      "\n",
      "# Load our dataset excluding bad lines (format problem)\n",
      "# The dataset has been cut into three parts to be uploaded on Github\n",
      "data_1 = pd.read_csv('data/data_1.csv', error_bad_lines=False)\n",
      "data_2 = pd.read_csv('data/data_2.csv', error_bad_lines=False)\n",
      "data_3 = pd.read_csv('data/data_3.csv', error_bad_lines=False)\n",
      "data = pd.concat([data_1, data_2, data_3], axis=0)\n",
      "\n",
      "# Set max_colwidth to 140 in order to fully see the tweet\n",
      "pd.set_option('max_colwidth', 140)\n",
      "\n",
      "# Display the first 10 rows\n",
      "data.head(10)"
     ],
     "language": "python",
     "metadata": {},
     "outputs": [
      {
       "html": [
        "<div style=\"max-height:1000px;max-width:1500px;overflow:auto;\">\n",
        "<table border=\"1\" class=\"dataframe\">\n",
        "  <thead>\n",
        "    <tr style=\"text-align: right;\">\n",
        "      <th></th>\n",
        "      <th>ItemID</th>\n",
        "      <th>Sentiment</th>\n",
        "      <th>SentimentSource</th>\n",
        "      <th>SentimentText</th>\n",
        "    </tr>\n",
        "  </thead>\n",
        "  <tbody>\n",
        "    <tr>\n",
        "      <th>0</th>\n",
        "      <td>1</td>\n",
        "      <td>0</td>\n",
        "      <td>Sentiment140</td>\n",
        "      <td>is so sad for my APL friend.............</td>\n",
        "    </tr>\n",
        "    <tr>\n",
        "      <th>1</th>\n",
        "      <td>2</td>\n",
        "      <td>0</td>\n",
        "      <td>Sentiment140</td>\n",
        "      <td>I missed the New Moon trailer...</td>\n",
        "    </tr>\n",
        "    <tr>\n",
        "      <th>2</th>\n",
        "      <td>3</td>\n",
        "      <td>1</td>\n",
        "      <td>Sentiment140</td>\n",
        "      <td>omg its already 7:30 :O</td>\n",
        "    </tr>\n",
        "    <tr>\n",
        "      <th>3</th>\n",
        "      <td>4</td>\n",
        "      <td>0</td>\n",
        "      <td>Sentiment140</td>\n",
        "      <td>.. Omgaga. Im sooo  im gunna CRy. I've been at this dentist since 11.. I was suposed 2 just get a crown put on (30mins)...</td>\n",
        "    </tr>\n",
        "    <tr>\n",
        "      <th>4</th>\n",
        "      <td>5</td>\n",
        "      <td>0</td>\n",
        "      <td>Sentiment140</td>\n",
        "      <td>i think mi bf is cheating on me!!!       T_T</td>\n",
        "    </tr>\n",
        "    <tr>\n",
        "      <th>5</th>\n",
        "      <td>6</td>\n",
        "      <td>0</td>\n",
        "      <td>Sentiment140</td>\n",
        "      <td>or i just worry too much?</td>\n",
        "    </tr>\n",
        "    <tr>\n",
        "      <th>6</th>\n",
        "      <td>7</td>\n",
        "      <td>1</td>\n",
        "      <td>Sentiment140</td>\n",
        "      <td>Juuuuuuuuuuuuuuuuussssst Chillin!!</td>\n",
        "    </tr>\n",
        "    <tr>\n",
        "      <th>7</th>\n",
        "      <td>8</td>\n",
        "      <td>0</td>\n",
        "      <td>Sentiment140</td>\n",
        "      <td>Sunny Again        Work Tomorrow  :-|       TV Tonight</td>\n",
        "    </tr>\n",
        "    <tr>\n",
        "      <th>8</th>\n",
        "      <td>9</td>\n",
        "      <td>1</td>\n",
        "      <td>Sentiment140</td>\n",
        "      <td>handed in my uniform today . i miss you already</td>\n",
        "    </tr>\n",
        "    <tr>\n",
        "      <th>9</th>\n",
        "      <td>10</td>\n",
        "      <td>1</td>\n",
        "      <td>Sentiment140</td>\n",
        "      <td>hmmmm.... i wonder how she my number @-)</td>\n",
        "    </tr>\n",
        "  </tbody>\n",
        "</table>\n",
        "</div>"
       ],
       "metadata": {},
       "output_type": "pyout",
       "prompt_number": 30,
       "text": [
        "   ItemID  Sentiment SentimentSource  \\\n",
        "0       1          0    Sentiment140   \n",
        "1       2          0    Sentiment140   \n",
        "2       3          1    Sentiment140   \n",
        "3       4          0    Sentiment140   \n",
        "4       5          0    Sentiment140   \n",
        "5       6          0    Sentiment140   \n",
        "6       7          1    Sentiment140   \n",
        "7       8          0    Sentiment140   \n",
        "8       9          1    Sentiment140   \n",
        "9      10          1    Sentiment140   \n",
        "\n",
        "                                                                                                                          SentimentText  \n",
        "0                                                                                              is so sad for my APL friend.............  \n",
        "1                                                                                                      I missed the New Moon trailer...  \n",
        "2                                                                                                               omg its already 7:30 :O  \n",
        "3            .. Omgaga. Im sooo  im gunna CRy. I've been at this dentist since 11.. I was suposed 2 just get a crown put on (30mins)...  \n",
        "4                                                                                          i think mi bf is cheating on me!!!       T_T  \n",
        "5                                                                                                     or i just worry too much?          \n",
        "6                                                                                                    Juuuuuuuuuuuuuuuuussssst Chillin!!  \n",
        "7                                                                                Sunny Again        Work Tomorrow  :-|       TV Tonight  \n",
        "8                                                                                       handed in my uniform today . i miss you already  \n",
        "9                                                                                              hmmmm.... i wonder how she my number @-)  "
       ]
      }
     ],
     "prompt_number": 30
    },
    {
     "cell_type": "markdown",
     "metadata": {},
     "source": [
      "From these few tweets we can already state different important points:  \n",
      "- The presence of **acronyms** \"bf\" or more complicated \"APL\". Does it means apple ? Apple (the company) ? In this context we have \"friend\" after so we could think that he refers to his smartphone and so Apple, but what about if the word \"friend\" was not here ?\n",
      "- The presense of **sequences of repeated characters** such as \"Juuuuuuuuuuuuuuuuussssst\", \"hmmmm\". In general when we repeat several caracteres in a word, it is to emphasize it, to increase its impact. How can we handle this ?\n",
      "- The presence of **emoticons**, \":O\", \"T_T\", \":-|\" and much more, give insights about user's moods.\n",
      "- **Spelling mistakes** like \"im gunna\" or \"mi\".\n",
      "- The precense of **nouns** such as \"TV\", \"New Moon\".\n",
      "\n",
      "We can also add,\n",
      "- People also indicate mood, emotion, state between two * such as, \\*cries\\*, \\*hummin\\*, \\*sigh\\*.\n",
      "\n",
      "And so on. As you can see, it is **extremely complex** to deal with language and that's why Natural Language Processing where Sentiment Analysis is one of its subtopic is a hot topic and lot of problems are still not solved.  \n",
      "\n",
      "Let's see if our dataset is balanced about the label class sentiment,"
     ]
    },
    {
     "cell_type": "code",
     "collapsed": false,
     "input": [
      "plt.close()\n",
      "fig, ax = plt.subplots()\n",
      "counts, bins, patches = ax.hist(data.Sentiment.as_matrix(), edgecolor='gray')\n",
      "\n",
      "# Set plot title\n",
      "ax.set_title(\"Histogram of Sentiments\")\n",
      "\n",
      "# Set x-axis name\n",
      "ax.set_xlabel(\"Sentiment\")\n",
      "\n",
      "# Set y-axis name\n",
      "ax.set_ylabel(\"Frequecy\")\n",
      "\n",
      "# Select the first patch (a rectangle, object of class matplotlib.patches.Patch)\n",
      "# corresponding to negative sentiment and color it\n",
      "patches[0].set_facecolor(\"#5d4037\")\n",
      "patches[0].set_label(\"negative\")\n",
      "\n",
      "# Same for the positive sentiment but in another color.\n",
      "patches[-1].set_facecolor(\"#ff9100\")\n",
      "patches[-1].set_label(\"positive\")\n",
      "\n",
      "# Add legend to a plot     \n",
      "plt.legend()"
     ],
     "language": "python",
     "metadata": {},
     "outputs": [
      {
       "metadata": {},
       "output_type": "pyout",
       "prompt_number": 70,
       "text": [
        "<matplotlib.legend.Legend at 0x1d4799490>"
       ]
      },
      {
       "metadata": {},
       "output_type": "display_data",
       "png": "[encoded data removed]",
       "text": [
        "<matplotlib.figure.Figure at 0x1d47993d0>"
       ]
      }
     ],
     "prompt_number": 70
    },
    {
     "cell_type": "markdown",
     "metadata": {},
     "source": [
      "The dataset seems to be really well-balanced between negative and positive sentiment, let's confirm that by displying numeric values,"
     ]
    },
    {
     "cell_type": "code",
     "collapsed": false,
     "input": [
      "data.Sentiment.value_counts()"
     ],
     "language": "python",
     "metadata": {},
     "outputs": [
      {
       "metadata": {},
       "output_type": "pyout",
       "prompt_number": 71,
       "text": [
        "1    790177\n",
        "0    788435\n",
        "dtype: int64"
       ]
      }
     ],
     "prompt_number": 71
    },
    {
     "cell_type": "code",
     "collapsed": false,
     "input": [],
     "language": "python",
     "metadata": {},
     "outputs": []
    }
   ],
   "metadata": {}
  }
 ]
}