{
 "metadata": {
  "name": "",
  "signature": "sha256:008c4e331d7206603b48fda9061942b345e29daad88958c22bf8c8c85875f521"
 },
 "nbformat": 3,
 "nbformat_minor": 0,
 "worksheets": [
  {
   "cells": [
    {
     "cell_type": "markdown",
     "metadata": {},
     "source": [
      "Twitter Sentiment Analysis\n",
      "===================\n",
      "----------\n",
      "\n",
      "1. Introduction\n",
      "-------------\n",
      "In this project, I would like to focus on **Sentiment Analysis** in a well studied context which is Twitter. Twitter is the most known microblogging website in the world and allow anyone to express its thoughts, opinions, and more, in 140 caracters. Due to the length limit of tweets and the time it takes to send one, tweets tend to reflect what people feel in real time.  \n",
      "\n",
      "Sentiment Analysis based on twitter can be really useful for a variety of tasks such as predicting stock markets, opinions of a product, politic outcomes and much more. The goal of this project is to be able to **classify if a given tweet is either positive or negative**.This subject has been explored many times but I would like to give a pedagogical approach where each step is described in details rather than a just a paper.\n",
      "\n",
      "2. Dataset\n",
      "-------------\n",
      "The dataset contains **1578612 tweets** coming from two sources: Kaggle and Sentiment140. There are four columns that are ItemID, Sentiment, SentimentSource and SentimentText. The Sentiment column correspond to our label class taking a binary value, **0 if the tweet is negative, 1 if the tweet is positive**.  \n",
      "Tweets have their own terminology which the following (from twitter glossary):  \n",
      "- **Hashtag**: A hashtag is any word or phrase immediately preceded by the # symbol. When you click on a hashtag, you\u2019ll see other Tweets containing the same keyword or topic.\n",
      "- **@username**: A username is how you\u2019re identified on Twitter, and is always preceded immediately by the @ symbol. For instance, Katy Perry is @katyperry.\n",
      "- **MT**: Similar to RT (Retweet), an abbreviation for \u201cModified Tweet.\u201d Placed before the Retweeted text when users manually retweet a message with modifications, for example shortening a Tweet.\n",
      "- **Retweet**: RT, A Tweet that you forward to your followers is known as a Retweet. Often used to pass along news or other valuable discoveries on Twitter, Retweets always retain original attribution.\n",
      "- **Emoticons**: Composed using punctuation and letters, they are used to express emotions concisely, \";) :) ...\"\n",
      "\n",
      "Furthermore, a tweet can also contain **acronyms** (\"OMG, WTF, ...\") as well as **spelling mistakes**.  \n",
      "All the **tweets are in english** for simplicity but we can imagine to apply the same concept for other languages.\n",
      "\n",
      "3. Visualizing The Dataset\n",
      "-------------\n",
      "The first step is to visualize our dataset to get first insights about the data and what they contain. To do so we will use graphics as much as possible because it is the best way to express measures that can be understandable for anybody.  \n",
      "Let's see if the dataset is balanced in the label class sentiment,"
     ]
    },
    {
     "cell_type": "code",
     "collapsed": false,
     "input": [
      "# Import libraries that we are going to use in the project\n",
      "\n",
      "import pandas as pd\n",
      "import numpy as np\n",
      "import matplotlib.pyplot as plt\n",
      "import matplotlib.cm as cm\n",
      "\n",
      "# Load our dataset excluding bad lines (format problem)\n",
      "dataset = pd.read_csv('data/dataset.csv', error_bad_lines=False)"
     ],
     "language": "python",
     "metadata": {},
     "outputs": [
      {
       "output_type": "stream",
       "stream": "stderr",
       "text": [
        "Skipping line 8836: expected 4 fields, saw 5\n",
        "\n",
        "Skipping line 535882: expected 4 fields, saw 7\n"
       ]
      },
      {
       "output_type": "stream",
       "stream": "stderr",
       "text": [
        "\n"
       ]
      }
     ],
     "prompt_number": 2
    }
   ],
   "metadata": {}
  }
 ]
}