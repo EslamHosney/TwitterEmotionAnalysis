{
 "metadata": {
  "name": "",
  "signature": "sha256:3d6eab48460634d88849a6f18988c0a021a3939ac5789ca7602bf9ac99fef6af"
 },
 "nbformat": 3,
 "nbformat_minor": 0,
 "worksheets": [
  {
   "cells": [
    {
     "cell_type": "markdown",
     "metadata": {},
     "source": [
      "Twitter Sentiment Analysis\n",
      "===================\n",
      "----------\n",
      "\n",
      "1. Introduction\n",
      "-------------\n",
      "In this project, I would like to focus on **Sentiment Analysis** in a well studied context which is Twitter. Twitter is the most known microblogging website in the world and allow anyone to express its thoughts, opinions, and more, in 140 caracters. Due to the length limit of tweets and the time it takes to send one, tweets tend to reflect what people feel in real time.  \n",
      "\n",
      "Sentiment Analysis based on twitter can be really useful for a variety of tasks such as predicting stock markets, opinions of a product, politic outcomes and much more. The goal of this project is to be able to **classify if a given tweet is either positive or negative**.This subject has been explored many times but I would like to give a pedagogical approach where each step is described in details rather than a just a paper.\n",
      "\n",
      "2. Dataset\n",
      "-------------\n",
      "The dataset contains **1578612 tweets** coming from two sources: Kaggle and Sentiment140. There are four columns that are ItemID, Sentiment, SentimentSource and SentimentText. The Sentiment column correspond to our label class taking a binary value, **0 if the tweet is negative, 1 if the tweet is positive**.  \n",
      "Tweets have their own terminology which the following (from twitter glossary):  \n",
      "- **Hashtag**: A hashtag is any word or phrase immediately preceded by the # symbol. When you click on a hashtag, you\u2019ll see other Tweets containing the same keyword or topic.\n",
      "- **@username**: A username is how you\u2019re identified on Twitter, and is always preceded immediately by the @ symbol. For instance, Katy Perry is @katyperry.\n",
      "- **MT**: Similar to RT (Retweet), an abbreviation for \u201cModified Tweet.\u201d Placed before the Retweeted text when users manually retweet a message with modifications, for example shortening a Tweet.\n",
      "- **Retweet**: RT, A Tweet that you forward to your followers is known as a Retweet. Often used to pass along news or other valuable discoveries on Twitter, Retweets always retain original attribution.\n",
      "- **Emoticons**: Composed using punctuation and letters, they are used to express emotions concisely, \";) :) ...\"\n",
      "\n",
      "Furthermore, a tweet can also contain **acronyms** (\"OMG, WTF, ...\") as well as **spelling mistakes**.  \n",
      "All the **tweets are in english** for simplicity but we can imagine to apply the same concept for other languages.\n",
      "\n",
      "3. Visualizing The Dataset\n",
      "-------------\n",
      "The first step is to visualize our dataset to get first insights about the data and what they contain. To do so we will use graphics as much as possible because it is the best way to express measures that can be understandable for anybody.  \n",
      "Let's load our dataset and display the first ten rows,"
     ]
    },
    {
     "cell_type": "code",
     "collapsed": false,
     "input": [
      "# Import libraries that we are going to use in the project\n",
      "\n",
      "import pandas as pd\n",
      "import numpy as np\n",
      "import matplotlib.pyplot as plt\n",
      "import matplotlib.cm as cm\n",
      "\n",
      "# Load our dataset excluding bad lines (format problem)\n",
      "# The dataset has been cut into three parts to be uploaded on Github\n",
      "data_1 = pd.read_csv('data/data_1.csv', error_bad_lines=False)\n",
      "data_2 = pd.read_csv('data/data_2.csv', error_bad_lines=False)\n",
      "data_3 = pd.read_csv('data/data_3.csv', error_bad_lines=False)\n",
      "data = pd.concat([data_1, data_2, data_3], axis=0)\n",
      "\n",
      "# Reindex the data frame and drop the column added by the reset_index function\n",
      "data.reset_index(drop=True, inplace=True)\n",
      "\n",
      "# Set max_colwidth to 140 in order to fully see the tweet\n",
      "pd.set_option('max_colwidth', 140)\n",
      "\n",
      "# Display the first 10 rows\n",
      "data.head(10)"
     ],
     "language": "python",
     "metadata": {},
     "outputs": [
      {
       "html": [
        "<div style=\"max-height:1000px;max-width:1500px;overflow:auto;\">\n",
        "<table border=\"1\" class=\"dataframe\">\n",
        "  <thead>\n",
        "    <tr style=\"text-align: right;\">\n",
        "      <th></th>\n",
        "      <th>ItemID</th>\n",
        "      <th>Sentiment</th>\n",
        "      <th>SentimentSource</th>\n",
        "      <th>SentimentText</th>\n",
        "    </tr>\n",
        "  </thead>\n",
        "  <tbody>\n",
        "    <tr>\n",
        "      <th>0</th>\n",
        "      <td>1</td>\n",
        "      <td>0</td>\n",
        "      <td>Sentiment140</td>\n",
        "      <td>is so sad for my APL friend.............</td>\n",
        "    </tr>\n",
        "    <tr>\n",
        "      <th>1</th>\n",
        "      <td>2</td>\n",
        "      <td>0</td>\n",
        "      <td>Sentiment140</td>\n",
        "      <td>I missed the New Moon trailer...</td>\n",
        "    </tr>\n",
        "    <tr>\n",
        "      <th>2</th>\n",
        "      <td>3</td>\n",
        "      <td>1</td>\n",
        "      <td>Sentiment140</td>\n",
        "      <td>omg its already 7:30 :O</td>\n",
        "    </tr>\n",
        "    <tr>\n",
        "      <th>3</th>\n",
        "      <td>4</td>\n",
        "      <td>0</td>\n",
        "      <td>Sentiment140</td>\n",
        "      <td>.. Omgaga. Im sooo  im gunna CRy. I've been at this dentist since 11.. I was suposed 2 just get a crown put on (30mins)...</td>\n",
        "    </tr>\n",
        "    <tr>\n",
        "      <th>4</th>\n",
        "      <td>5</td>\n",
        "      <td>0</td>\n",
        "      <td>Sentiment140</td>\n",
        "      <td>i think mi bf is cheating on me!!!       T_T</td>\n",
        "    </tr>\n",
        "    <tr>\n",
        "      <th>5</th>\n",
        "      <td>6</td>\n",
        "      <td>0</td>\n",
        "      <td>Sentiment140</td>\n",
        "      <td>or i just worry too much?</td>\n",
        "    </tr>\n",
        "    <tr>\n",
        "      <th>6</th>\n",
        "      <td>7</td>\n",
        "      <td>1</td>\n",
        "      <td>Sentiment140</td>\n",
        "      <td>Juuuuuuuuuuuuuuuuussssst Chillin!!</td>\n",
        "    </tr>\n",
        "    <tr>\n",
        "      <th>7</th>\n",
        "      <td>8</td>\n",
        "      <td>0</td>\n",
        "      <td>Sentiment140</td>\n",
        "      <td>Sunny Again        Work Tomorrow  :-|       TV Tonight</td>\n",
        "    </tr>\n",
        "    <tr>\n",
        "      <th>8</th>\n",
        "      <td>9</td>\n",
        "      <td>1</td>\n",
        "      <td>Sentiment140</td>\n",
        "      <td>handed in my uniform today . i miss you already</td>\n",
        "    </tr>\n",
        "    <tr>\n",
        "      <th>9</th>\n",
        "      <td>10</td>\n",
        "      <td>1</td>\n",
        "      <td>Sentiment140</td>\n",
        "      <td>hmmmm.... i wonder how she my number @-)</td>\n",
        "    </tr>\n",
        "  </tbody>\n",
        "</table>\n",
        "</div>"
       ],
       "metadata": {},
       "output_type": "pyout",
       "prompt_number": 1,
       "text": [
        "   ItemID  Sentiment SentimentSource  \\\n",
        "0       1          0    Sentiment140   \n",
        "1       2          0    Sentiment140   \n",
        "2       3          1    Sentiment140   \n",
        "3       4          0    Sentiment140   \n",
        "4       5          0    Sentiment140   \n",
        "5       6          0    Sentiment140   \n",
        "6       7          1    Sentiment140   \n",
        "7       8          0    Sentiment140   \n",
        "8       9          1    Sentiment140   \n",
        "9      10          1    Sentiment140   \n",
        "\n",
        "                                                                                                                          SentimentText  \n",
        "0                                                                                              is so sad for my APL friend.............  \n",
        "1                                                                                                      I missed the New Moon trailer...  \n",
        "2                                                                                                               omg its already 7:30 :O  \n",
        "3            .. Omgaga. Im sooo  im gunna CRy. I've been at this dentist since 11.. I was suposed 2 just get a crown put on (30mins)...  \n",
        "4                                                                                          i think mi bf is cheating on me!!!       T_T  \n",
        "5                                                                                                     or i just worry too much?          \n",
        "6                                                                                                    Juuuuuuuuuuuuuuuuussssst Chillin!!  \n",
        "7                                                                                Sunny Again        Work Tomorrow  :-|       TV Tonight  \n",
        "8                                                                                       handed in my uniform today . i miss you already  \n",
        "9                                                                                              hmmmm.... i wonder how she my number @-)  "
       ]
      }
     ],
     "prompt_number": 1
    },
    {
     "cell_type": "markdown",
     "metadata": {},
     "source": [
      "From these few tweets we can already state different important points:  \n",
      "- The presence of **acronyms** \"bf\" or more complicated \"APL\". Does it means apple ? Apple (the company) ? In this context we have \"friend\" after so we could think that he refers to his smartphone and so Apple, but what about if the word \"friend\" was not here ?\n",
      "- The presense of **sequences of repeated characters** such as \"Juuuuuuuuuuuuuuuuussssst\", \"hmmmm\". In general when we repeat several caracteres in a word, it is to emphasize it, to increase its impact. How can we handle this ?\n",
      "- The presence of **emoticons**, \":O\", \"T_T\", \":-|\" and much more, give insights about user's moods.\n",
      "- **Spelling mistakes** like \"im gunna\" or \"mi\".\n",
      "- The precense of **nouns** such as \"TV\", \"New Moon\".\n",
      "\n",
      "We can also add,\n",
      "- People also indicate moods, emotions, states, between two * such as, \\*cries\\*, \\*hummin\\*, \\*sigh\\*.\n",
      "- The negation, can't, cannot, don't, haven't that we need to handle.\n",
      "\n",
      "And so on. As you can see, it is **extremely complex** to deal with language and that's why Natural Language Processing where Sentiment Analysis is one of its subtopic is a hot topic and lot of problems are still not solved.  \n",
      "\n",
      "Let's see if our dataset is balanced about the label class sentiment,"
     ]
    },
    {
     "cell_type": "code",
     "collapsed": false,
     "input": [
      "plt.close()\n",
      "fig, ax = plt.subplots()\n",
      "counts, bins, patches = ax.hist(data.Sentiment.as_matrix(), edgecolor='gray')\n",
      "\n",
      "# Set plot title\n",
      "ax.set_title(\"Histogram of Sentiments\")\n",
      "\n",
      "# Set x-axis name\n",
      "ax.set_xlabel(\"Sentiment\")\n",
      "\n",
      "# Set y-axis name\n",
      "ax.set_ylabel(\"Frequecy\")\n",
      "\n",
      "# Select the first patch (a rectangle, object of class matplotlib.patches.Patch)\n",
      "# corresponding to negative sentiment and color it\n",
      "patches[0].set_facecolor(\"#5d4037\")\n",
      "patches[0].set_label(\"negative\")\n",
      "\n",
      "# Same for the positive sentiment but in another color.\n",
      "patches[-1].set_facecolor(\"#ff9100\")\n",
      "patches[-1].set_label(\"positive\")\n",
      "\n",
      "# Add legend to a plot     \n",
      "plt.legend()"
     ],
     "language": "python",
     "metadata": {},
     "outputs": [
      {
       "metadata": {},
       "output_type": "pyout",
       "prompt_number": 2,
       "text": [
        "<matplotlib.legend.Legend at 0x124fe8e50>"
       ]
      },
      {
       "metadata": {},
       "output_type": "display_data",
       "png": "[encoded data removed]",
       "text": [
        "<matplotlib.figure.Figure at 0x124fe8e10>"
       ]
      }
     ],
     "prompt_number": 2
    },
    {
     "cell_type": "markdown",
     "metadata": {},
     "source": [
      "The dataset seems to be really well-balanced between negative and positive sentiment, let's confirm that by displying numeric values,"
     ]
    },
    {
     "cell_type": "code",
     "collapsed": false,
     "input": [
      "data.Sentiment.value_counts()"
     ],
     "language": "python",
     "metadata": {},
     "outputs": [
      {
       "metadata": {},
       "output_type": "pyout",
       "prompt_number": 3,
       "text": [
        "1    790177\n",
        "0    788435\n",
        "dtype: int64"
       ]
      }
     ],
     "prompt_number": 3
    },
    {
     "cell_type": "markdown",
     "metadata": {},
     "source": [
      "It is important to **check if we have duplicates** in tweets which is something that arise very often because of the RT (Retweet),"
     ]
    },
    {
     "cell_type": "code",
     "collapsed": false,
     "input": [
      "# Show duplicated tweets if exist\n",
      "len(data[data.duplicated('SentimentText')])"
     ],
     "language": "python",
     "metadata": {},
     "outputs": [
      {
       "metadata": {},
       "output_type": "pyout",
       "prompt_number": 4,
       "text": [
        "0"
       ]
      }
     ],
     "prompt_number": 4
    },
    {
     "cell_type": "code",
     "collapsed": false,
     "input": [
      "# Display the number of RT\n",
      "len(data.SentimentText[data.SentimentText.str.extract('(RT)').notnull()])"
     ],
     "language": "python",
     "metadata": {},
     "outputs": [
      {
       "metadata": {},
       "output_type": "pyout",
       "prompt_number": 5,
       "text": [
        "13"
       ]
      }
     ],
     "prompt_number": 5
    },
    {
     "cell_type": "markdown",
     "metadata": {},
     "source": [
      "We are lucky because although there are retweets in our dataset, there is no duplicate which is a good thing when we are going to train our classifier.  \n",
      "\n",
      "4. Resources\n",
      "-------------\n",
      "In order to facilitate the preproccessing part three ressources are added to the project :\n",
      "- An **emoticon dictionary** regrouping 132 of the most used emoticons in western with their sentiment, negative or positive.\n",
      "- An **acronym dictionary** of 5465 acronyms with their translation.\n",
      "- A **stop word dictionary** corresponding to words which are filtered out before or after processing of natural language data because they are not useful in our case.\n",
      "- A **negative contractions and auxiliaries dictionary** which will be used to detect negation in a given tweet\n"
     ]
    },
    {
     "cell_type": "code",
     "collapsed": false,
     "input": [
      "# Load all of the resources\n",
      "emoticons = pd.read_csv('data/smileys.csv')\n",
      "positive_emoticons = emoticons[emoticons.Sentiment == 1]\n",
      "negative_emoticons = emoticons[emoticons.Sentiment == 0]\n",
      "emoticons.head(5)"
     ],
     "language": "python",
     "metadata": {},
     "outputs": [
      {
       "html": [
        "<div style=\"max-height:1000px;max-width:1500px;overflow:auto;\">\n",
        "<table border=\"1\" class=\"dataframe\">\n",
        "  <thead>\n",
        "    <tr style=\"text-align: right;\">\n",
        "      <th></th>\n",
        "      <th>Smiley</th>\n",
        "      <th>Sentiment</th>\n",
        "    </tr>\n",
        "  </thead>\n",
        "  <tbody>\n",
        "    <tr>\n",
        "      <th>0</th>\n",
        "      <td>:-)</td>\n",
        "      <td>1</td>\n",
        "    </tr>\n",
        "    <tr>\n",
        "      <th>1</th>\n",
        "      <td>:)</td>\n",
        "      <td>1</td>\n",
        "    </tr>\n",
        "    <tr>\n",
        "      <th>2</th>\n",
        "      <td>:D</td>\n",
        "      <td>1</td>\n",
        "    </tr>\n",
        "    <tr>\n",
        "      <th>3</th>\n",
        "      <td>:o)</td>\n",
        "      <td>1</td>\n",
        "    </tr>\n",
        "    <tr>\n",
        "      <th>4</th>\n",
        "      <td>:]</td>\n",
        "      <td>1</td>\n",
        "    </tr>\n",
        "  </tbody>\n",
        "</table>\n",
        "</div>"
       ],
       "metadata": {},
       "output_type": "pyout",
       "prompt_number": 6,
       "text": [
        "  Smiley  Sentiment\n",
        "0    :-)          1\n",
        "1     :)          1\n",
        "2     :D          1\n",
        "3    :o)          1\n",
        "4     :]          1"
       ]
      }
     ],
     "prompt_number": 6
    },
    {
     "cell_type": "code",
     "collapsed": false,
     "input": [
      "acronyms = pd.read_csv('data/acronyms.csv')\n",
      "acronyms.tail(5)"
     ],
     "language": "python",
     "metadata": {},
     "outputs": [
      {
       "html": [
        "<div style=\"max-height:1000px;max-width:1500px;overflow:auto;\">\n",
        "<table border=\"1\" class=\"dataframe\">\n",
        "  <thead>\n",
        "    <tr style=\"text-align: right;\">\n",
        "      <th></th>\n",
        "      <th>Acronym</th>\n",
        "      <th>Translation</th>\n",
        "    </tr>\n",
        "  </thead>\n",
        "  <tbody>\n",
        "    <tr>\n",
        "      <th>5459</th>\n",
        "      <td>tomoz</td>\n",
        "      <td>tomorrow</td>\n",
        "    </tr>\n",
        "    <tr>\n",
        "      <th>5460</th>\n",
        "      <td>gpytfaht</td>\n",
        "      <td>gladly pay you tuesday for a hamburger today</td>\n",
        "    </tr>\n",
        "    <tr>\n",
        "      <th>5461</th>\n",
        "      <td>l8rz</td>\n",
        "      <td>later</td>\n",
        "    </tr>\n",
        "    <tr>\n",
        "      <th>5462</th>\n",
        "      <td>sase</td>\n",
        "      <td>self addressed stamped envelope</td>\n",
        "    </tr>\n",
        "    <tr>\n",
        "      <th>5463</th>\n",
        "      <td>bwoc</td>\n",
        "      <td>big woman on campus</td>\n",
        "    </tr>\n",
        "  </tbody>\n",
        "</table>\n",
        "</div>"
       ],
       "metadata": {},
       "output_type": "pyout",
       "prompt_number": 7,
       "text": [
        "       Acronym                                   Translation\n",
        "5459     tomoz                                      tomorrow\n",
        "5460  gpytfaht  gladly pay you tuesday for a hamburger today\n",
        "5461      l8rz                                         later\n",
        "5462      sase               self addressed stamped envelope\n",
        "5463      bwoc                           big woman on campus"
       ]
      }
     ],
     "prompt_number": 7
    },
    {
     "cell_type": "code",
     "collapsed": false,
     "input": [
      "stops = pd.read_csv('data/stopwords.csv')\n",
      "stops.columns = ['Word']\n",
      "stops.head(5)"
     ],
     "language": "python",
     "metadata": {},
     "outputs": [
      {
       "html": [
        "<div style=\"max-height:1000px;max-width:1500px;overflow:auto;\">\n",
        "<table border=\"1\" class=\"dataframe\">\n",
        "  <thead>\n",
        "    <tr style=\"text-align: right;\">\n",
        "      <th></th>\n",
        "      <th>Word</th>\n",
        "    </tr>\n",
        "  </thead>\n",
        "  <tbody>\n",
        "    <tr>\n",
        "      <th>0</th>\n",
        "      <td>able</td>\n",
        "    </tr>\n",
        "    <tr>\n",
        "      <th>1</th>\n",
        "      <td>about</td>\n",
        "    </tr>\n",
        "    <tr>\n",
        "      <th>2</th>\n",
        "      <td>above</td>\n",
        "    </tr>\n",
        "    <tr>\n",
        "      <th>3</th>\n",
        "      <td>abroad</td>\n",
        "    </tr>\n",
        "    <tr>\n",
        "      <th>4</th>\n",
        "      <td>according</td>\n",
        "    </tr>\n",
        "  </tbody>\n",
        "</table>\n",
        "</div>"
       ],
       "metadata": {},
       "output_type": "pyout",
       "prompt_number": 8,
       "text": [
        "        Word\n",
        "0       able\n",
        "1      about\n",
        "2      above\n",
        "3     abroad\n",
        "4  according"
       ]
      }
     ],
     "prompt_number": 8
    },
    {
     "cell_type": "markdown",
     "metadata": {},
     "source": [
      "The resources showed above are mainly used only for the preprocessing part. Another resource that we are going to use is a **lexicon** which corresponds to a list of words where each word is associated with its **polarity**, positive or negative.  \n",
      "The lexicon is divided into two distinct files, one for positive words, containing **2005 entries** and the other for negative words containing **4782 entries**."
     ]
    },
    {
     "cell_type": "code",
     "collapsed": false,
     "input": [
      "positive_words = pd.read_csv('data/positive-words.csv', sep='\\t')\n",
      "positive_words.columns = ['Word', 'Sentiment']\n",
      "negative_words = pd.read_csv('data/negative-words.csv', sep='\\t')\n",
      "negative_words.columns = ['Word', 'Sentiment']\n",
      "positive_words.head(5)"
     ],
     "language": "python",
     "metadata": {},
     "outputs": [
      {
       "html": [
        "<div style=\"max-height:1000px;max-width:1500px;overflow:auto;\">\n",
        "<table border=\"1\" class=\"dataframe\">\n",
        "  <thead>\n",
        "    <tr style=\"text-align: right;\">\n",
        "      <th></th>\n",
        "      <th>Word</th>\n",
        "      <th>Sentiment</th>\n",
        "    </tr>\n",
        "  </thead>\n",
        "  <tbody>\n",
        "    <tr>\n",
        "      <th>0</th>\n",
        "      <td>abound</td>\n",
        "      <td>1</td>\n",
        "    </tr>\n",
        "    <tr>\n",
        "      <th>1</th>\n",
        "      <td>abounds</td>\n",
        "      <td>1</td>\n",
        "    </tr>\n",
        "    <tr>\n",
        "      <th>2</th>\n",
        "      <td>abundance</td>\n",
        "      <td>1</td>\n",
        "    </tr>\n",
        "    <tr>\n",
        "      <th>3</th>\n",
        "      <td>abundant</td>\n",
        "      <td>1</td>\n",
        "    </tr>\n",
        "    <tr>\n",
        "      <th>4</th>\n",
        "      <td>accessable</td>\n",
        "      <td>1</td>\n",
        "    </tr>\n",
        "  </tbody>\n",
        "</table>\n",
        "</div>"
       ],
       "metadata": {},
       "output_type": "pyout",
       "prompt_number": 9,
       "text": [
        "         Word  Sentiment\n",
        "0      abound          1\n",
        "1     abounds          1\n",
        "2   abundance          1\n",
        "3    abundant          1\n",
        "4  accessable          1"
       ]
      }
     ],
     "prompt_number": 9
    },
    {
     "cell_type": "code",
     "collapsed": false,
     "input": [
      "negative_words.head(5)"
     ],
     "language": "python",
     "metadata": {},
     "outputs": [
      {
       "html": [
        "<div style=\"max-height:1000px;max-width:1500px;overflow:auto;\">\n",
        "<table border=\"1\" class=\"dataframe\">\n",
        "  <thead>\n",
        "    <tr style=\"text-align: right;\">\n",
        "      <th></th>\n",
        "      <th>Word</th>\n",
        "      <th>Sentiment</th>\n",
        "    </tr>\n",
        "  </thead>\n",
        "  <tbody>\n",
        "    <tr>\n",
        "      <th>0</th>\n",
        "      <td>2-faces</td>\n",
        "      <td>0</td>\n",
        "    </tr>\n",
        "    <tr>\n",
        "      <th>1</th>\n",
        "      <td>abnormal</td>\n",
        "      <td>0</td>\n",
        "    </tr>\n",
        "    <tr>\n",
        "      <th>2</th>\n",
        "      <td>abolish</td>\n",
        "      <td>0</td>\n",
        "    </tr>\n",
        "    <tr>\n",
        "      <th>3</th>\n",
        "      <td>abominable</td>\n",
        "      <td>0</td>\n",
        "    </tr>\n",
        "    <tr>\n",
        "      <th>4</th>\n",
        "      <td>abominably</td>\n",
        "      <td>0</td>\n",
        "    </tr>\n",
        "  </tbody>\n",
        "</table>\n",
        "</div>"
       ],
       "metadata": {},
       "output_type": "pyout",
       "prompt_number": 10,
       "text": [
        "         Word  Sentiment\n",
        "0     2-faces          0\n",
        "1    abnormal          0\n",
        "2     abolish          0\n",
        "3  abominable          0\n",
        "4  abominably          0"
       ]
      }
     ],
     "prompt_number": 10
    },
    {
     "cell_type": "code",
     "collapsed": false,
     "input": [
      "negation_dictionary = pd.read_csv('data/negation.csv')\n",
      "negation_dictionary.head(5)"
     ],
     "language": "python",
     "metadata": {},
     "outputs": [
      {
       "html": [
        "<div style=\"max-height:1000px;max-width:1500px;overflow:auto;\">\n",
        "<table border=\"1\" class=\"dataframe\">\n",
        "  <thead>\n",
        "    <tr style=\"text-align: right;\">\n",
        "      <th></th>\n",
        "      <th>Negation</th>\n",
        "      <th>Tag</th>\n",
        "    </tr>\n",
        "  </thead>\n",
        "  <tbody>\n",
        "    <tr>\n",
        "      <th>0</th>\n",
        "      <td>not</td>\n",
        "      <td>||not||</td>\n",
        "    </tr>\n",
        "    <tr>\n",
        "      <th>1</th>\n",
        "      <td>don't</td>\n",
        "      <td>||not||</td>\n",
        "    </tr>\n",
        "    <tr>\n",
        "      <th>2</th>\n",
        "      <td>doesn't</td>\n",
        "      <td>||not||</td>\n",
        "    </tr>\n",
        "    <tr>\n",
        "      <th>3</th>\n",
        "      <td>aren't</td>\n",
        "      <td>||not||</td>\n",
        "    </tr>\n",
        "    <tr>\n",
        "      <th>4</th>\n",
        "      <td>isn't</td>\n",
        "      <td>||not||</td>\n",
        "    </tr>\n",
        "  </tbody>\n",
        "</table>\n",
        "</div>"
       ],
       "metadata": {},
       "output_type": "pyout",
       "prompt_number": 11,
       "text": [
        "  Negation      Tag\n",
        "0      not  ||not||\n",
        "1    don't  ||not||\n",
        "2  doesn't  ||not||\n",
        "3   aren't  ||not||\n",
        "4    isn't  ||not||"
       ]
      }
     ],
     "prompt_number": 11
    },
    {
     "cell_type": "markdown",
     "metadata": {},
     "source": [
      "5. Preprocessing\n",
      "-------------\n",
      "One of the most important parts that is going to be crucial for the learning part is the preprocessing of the data. Indeed as they are, we can't just use a learning algorithm because the given result would be highly biased due to the inconsistency of the data.  \n",
      "To do this we are going to pass our data through these different steps:\n",
      "- Replace all emoticons by their sentiment polarity ||pos||/||neg|| using the emoticon dictionary.\n",
      "- Replace all URLs with a tag ||url||.\n",
      "- Remode Unicode characteres.\n",
      "- Decode HTML entities.\n",
      "- Reduce all letters to lower case (We should take care of proper nouns but for simplicity we will lower them as well) (After emoticons because they can use upper case letters)\n",
      "- Replace all usernames/targets @ with ||target||.\n",
      "- Replace all acronyms with their translation.\n",
      "- Replace all negations (e.g: not, no, never) by tag ||not||.\n",
      "- Remove all stop words since they are not useful (After negation).\n",
      "- Stemming words using NLTK.\n",
      "- Replace a sequence of repeated characters by two caracters (e.g: \"helloooo\" = \"helloo\") to keep the emphasized usage of the word.\n",
      "\n",
      "#### 1) Replace all emoticons\n",
      "To replace all emoticons by their corresponding polarity tags ||pos||/||neg|| we use the emoticon dictionary with a regex and check  each tweet if it contains an emoticon."
     ]
    },
    {
     "cell_type": "code",
     "collapsed": false,
     "input": [
      "import re\n",
      "\n",
      "def make_emoticon_pattern(emoticons):\n",
      "    pattern = \"|\".join(map(re.escape, emoticons.Smiley))\n",
      "    pattern = \"(?<=\\s)(\" + pattern + \")(?=\\s)\"\n",
      "    return pattern\n",
      "\n",
      "def find_with_pattern(pattern, replace=False, tag=None):\n",
      "    if replace and tag == None:\n",
      "        raise Exception(\"Parameter error\", \"If replace=True you should add the tag by which the pattern will be replaced\")\n",
      "    regex = re.compile(pattern)\n",
      "    if replace:\n",
      "        return data.SentimentText.apply(lambda tweet: re.sub(pattern, tag, \" \" + tweet + \" \"))\n",
      "    return data.SentimentText.apply(lambda tweet: re.findall(pattern, \" \" + tweet + \" \"))\n",
      "\n",
      "pos_emoticons_found = find_with_pattern(make_emoticon_pattern(positive_emoticons))\n",
      "neg_emoticons_found = find_with_pattern(make_emoticon_pattern(negative_emoticons))\n",
      "\n",
      "nb_pos_emoticons = len(pos_emoticons_found[pos_emoticons_found.map(lambda emoticons : len(emoticons) > 0)])\n",
      "nb_neg_emoticons = len(neg_emoticons_found[neg_emoticons_found.map(lambda emoticons : len(emoticons) > 0)])\n",
      "print \"Number of positive emoticons: \" + str(nb_pos_emoticons) + \" Number of negative emoticons: \" + str(nb_neg_emoticons)"
     ],
     "language": "python",
     "metadata": {},
     "outputs": [
      {
       "output_type": "stream",
       "stream": "stdout",
       "text": [
        "Number of positive emoticons: 19469 Number of negative emoticons: 11025\n"
       ]
      }
     ],
     "prompt_number": 12
    },
    {
     "cell_type": "code",
     "collapsed": false,
     "input": [
      "data.SentimentText = find_with_pattern(make_emoticon_pattern(positive_emoticons), True, '||pos||')\n",
      "data.SentimentText = find_with_pattern(make_emoticon_pattern(negative_emoticons), True, '||neg||')\n",
      "data.head(10)"
     ],
     "language": "python",
     "metadata": {},
     "outputs": [
      {
       "html": [
        "<div style=\"max-height:1000px;max-width:1500px;overflow:auto;\">\n",
        "<table border=\"1\" class=\"dataframe\">\n",
        "  <thead>\n",
        "    <tr style=\"text-align: right;\">\n",
        "      <th></th>\n",
        "      <th>ItemID</th>\n",
        "      <th>Sentiment</th>\n",
        "      <th>SentimentSource</th>\n",
        "      <th>SentimentText</th>\n",
        "    </tr>\n",
        "  </thead>\n",
        "  <tbody>\n",
        "    <tr>\n",
        "      <th>0</th>\n",
        "      <td>1</td>\n",
        "      <td>0</td>\n",
        "      <td>Sentiment140</td>\n",
        "      <td>is so sad for my APL friend.............</td>\n",
        "    </tr>\n",
        "    <tr>\n",
        "      <th>1</th>\n",
        "      <td>2</td>\n",
        "      <td>0</td>\n",
        "      <td>Sentiment140</td>\n",
        "      <td>I missed the New Moon trailer...</td>\n",
        "    </tr>\n",
        "    <tr>\n",
        "      <th>2</th>\n",
        "      <td>3</td>\n",
        "      <td>1</td>\n",
        "      <td>Sentiment140</td>\n",
        "      <td>omg its already 7:30 ||pos||</td>\n",
        "    </tr>\n",
        "    <tr>\n",
        "      <th>3</th>\n",
        "      <td>4</td>\n",
        "      <td>0</td>\n",
        "      <td>Sentiment140</td>\n",
        "      <td>.. Omgaga. Im sooo  im gunna CRy. I've been at this dentist since 11.. I was suposed 2 just get a crown put on (30mins)...</td>\n",
        "    </tr>\n",
        "    <tr>\n",
        "      <th>4</th>\n",
        "      <td>5</td>\n",
        "      <td>0</td>\n",
        "      <td>Sentiment140</td>\n",
        "      <td>i think mi bf is cheating on me!!!       ||neg||</td>\n",
        "    </tr>\n",
        "    <tr>\n",
        "      <th>5</th>\n",
        "      <td>6</td>\n",
        "      <td>0</td>\n",
        "      <td>Sentiment140</td>\n",
        "      <td>or i just worry too much?</td>\n",
        "    </tr>\n",
        "    <tr>\n",
        "      <th>6</th>\n",
        "      <td>7</td>\n",
        "      <td>1</td>\n",
        "      <td>Sentiment140</td>\n",
        "      <td>Juuuuuuuuuuuuuuuuussssst Chillin!!</td>\n",
        "    </tr>\n",
        "    <tr>\n",
        "      <th>7</th>\n",
        "      <td>8</td>\n",
        "      <td>0</td>\n",
        "      <td>Sentiment140</td>\n",
        "      <td>Sunny Again        Work Tomorrow  ||neg||       TV Tonight</td>\n",
        "    </tr>\n",
        "    <tr>\n",
        "      <th>8</th>\n",
        "      <td>9</td>\n",
        "      <td>1</td>\n",
        "      <td>Sentiment140</td>\n",
        "      <td>handed in my uniform today . i miss you already</td>\n",
        "    </tr>\n",
        "    <tr>\n",
        "      <th>9</th>\n",
        "      <td>10</td>\n",
        "      <td>1</td>\n",
        "      <td>Sentiment140</td>\n",
        "      <td>hmmmm.... i wonder how she my number ||pos||</td>\n",
        "    </tr>\n",
        "  </tbody>\n",
        "</table>\n",
        "</div>"
       ],
       "metadata": {},
       "output_type": "pyout",
       "prompt_number": 13,
       "text": [
        "   ItemID  Sentiment SentimentSource  \\\n",
        "0       1          0    Sentiment140   \n",
        "1       2          0    Sentiment140   \n",
        "2       3          1    Sentiment140   \n",
        "3       4          0    Sentiment140   \n",
        "4       5          0    Sentiment140   \n",
        "5       6          0    Sentiment140   \n",
        "6       7          1    Sentiment140   \n",
        "7       8          0    Sentiment140   \n",
        "8       9          1    Sentiment140   \n",
        "9      10          1    Sentiment140   \n",
        "\n",
        "                                                                                                                              SentimentText  \n",
        "0                                                                                                is so sad for my APL friend.............    \n",
        "1                                                                                                        I missed the New Moon trailer...    \n",
        "2                                                                                                            omg its already 7:30 ||pos||    \n",
        "3              .. Omgaga. Im sooo  im gunna CRy. I've been at this dentist since 11.. I was suposed 2 just get a crown put on (30mins)...    \n",
        "4                                                                                        i think mi bf is cheating on me!!!       ||neg||    \n",
        "5                                                                                                       or i just worry too much?            \n",
        "6                                                                                                      Juuuuuuuuuuuuuuuuussssst Chillin!!    \n",
        "7                                                                              Sunny Again        Work Tomorrow  ||neg||       TV Tonight    \n",
        "8                                                                                         handed in my uniform today . i miss you already    \n",
        "9                                                                                            hmmmm.... i wonder how she my number ||pos||    "
       ]
      }
     ],
     "prompt_number": 13
    },
    {
     "cell_type": "markdown",
     "metadata": {},
     "source": [
      "#### 2) Replace all urls\n",
      "Using the same method as for emoticons, we find all urls in each tweet and replace them by the tag ||url||"
     ]
    },
    {
     "cell_type": "code",
     "collapsed": false,
     "input": [
      "pattern_url = re.compile(ur'(?i)\\b((?:https?://|www\\d{0,3}[.]|[a-z0-9.\\-]+[.][a-z]{2,4}/)(?:[^\\s()<>]+|\\(([^\\s()<>]+|(\\([^\\s()<>]+\\)))*\\))+(?:\\(([^\\s()<>]+|(\\([^\\s()<>]+\\)))*\\)|[^\\s`!()\\[\\]{};:\\'\".,<>?\\xab\\xbb\\u201c\\u201d\\u2018\\u2019]))')\n",
      "\n",
      "url_found = find_with_pattern(pattern_url)\n",
      "print \"Number of urls: \" + str(len(url_found[url_found.map(lambda urls : len(urls) > 0)]))"
     ],
     "language": "python",
     "metadata": {},
     "outputs": [
      {
       "output_type": "stream",
       "stream": "stdout",
       "text": [
        "Number of urls: 73824\n"
       ]
      }
     ],
     "prompt_number": 14
    },
    {
     "cell_type": "code",
     "collapsed": false,
     "input": [
      "data.SentimentText = find_with_pattern(pattern_url, True, '||url||')\n",
      "data.tail(10)"
     ],
     "language": "python",
     "metadata": {},
     "outputs": [
      {
       "html": [
        "<div style=\"max-height:1000px;max-width:1500px;overflow:auto;\">\n",
        "<table border=\"1\" class=\"dataframe\">\n",
        "  <thead>\n",
        "    <tr style=\"text-align: right;\">\n",
        "      <th></th>\n",
        "      <th>ItemID</th>\n",
        "      <th>Sentiment</th>\n",
        "      <th>SentimentSource</th>\n",
        "      <th>SentimentText</th>\n",
        "    </tr>\n",
        "  </thead>\n",
        "  <tbody>\n",
        "    <tr>\n",
        "      <th>1578602</th>\n",
        "      <td>1578618</td>\n",
        "      <td>0</td>\n",
        "      <td>Sentiment140</td>\n",
        "      <td>Zzzz lying in bed watching the countryside through my window. Last day of freedom  gonna make an incred bacon sandwich...</td>\n",
        "    </tr>\n",
        "    <tr>\n",
        "      <th>1578603</th>\n",
        "      <td>1578619</td>\n",
        "      <td>1</td>\n",
        "      <td>Sentiment140</td>\n",
        "      <td>Zzzz... Fuck \u00c3\u00bc : Zzzz... Fuck \u00c3\u00bc  ||url||</td>\n",
        "    </tr>\n",
        "    <tr>\n",
        "      <th>1578604</th>\n",
        "      <td>1578620</td>\n",
        "      <td>1</td>\n",
        "      <td>Sentiment140</td>\n",
        "      <td>Zzzz...no work tomorrow..yayyy!!</td>\n",
        "    </tr>\n",
        "    <tr>\n",
        "      <th>1578605</th>\n",
        "      <td>1578621</td>\n",
        "      <td>1</td>\n",
        "      <td>Sentiment140</td>\n",
        "      <td>ZZZZZ time.. Tomorrow will be a busy day for serving &amp;amp; loving people! Luv y'all!</td>\n",
        "    </tr>\n",
        "    <tr>\n",
        "      <th>1578606</th>\n",
        "      <td>1578622</td>\n",
        "      <td>0</td>\n",
        "      <td>Sentiment140</td>\n",
        "      <td>Zzzzz want to sleep but at sister's in-laws's house.</td>\n",
        "    </tr>\n",
        "    <tr>\n",
        "      <th>1578607</th>\n",
        "      <td>1578623</td>\n",
        "      <td>1</td>\n",
        "      <td>Sentiment140</td>\n",
        "      <td>Zzzzzz.... Finally! Night tweeters!</td>\n",
        "    </tr>\n",
        "    <tr>\n",
        "      <th>1578608</th>\n",
        "      <td>1578624</td>\n",
        "      <td>1</td>\n",
        "      <td>Sentiment140</td>\n",
        "      <td>Zzzzzzz, sleep well people</td>\n",
        "    </tr>\n",
        "    <tr>\n",
        "      <th>1578609</th>\n",
        "      <td>1578625</td>\n",
        "      <td>0</td>\n",
        "      <td>Sentiment140</td>\n",
        "      <td>ZzzZzZzzzZ... wait no I have homework.</td>\n",
        "    </tr>\n",
        "    <tr>\n",
        "      <th>1578610</th>\n",
        "      <td>1578626</td>\n",
        "      <td>0</td>\n",
        "      <td>Sentiment140</td>\n",
        "      <td>ZzZzzzZZZZzzz meh, what am I doing up again?</td>\n",
        "    </tr>\n",
        "    <tr>\n",
        "      <th>1578611</th>\n",
        "      <td>1578627</td>\n",
        "      <td>0</td>\n",
        "      <td>Sentiment140</td>\n",
        "      <td>Zzzzzzzzzzzzzzzzzzz, I wish</td>\n",
        "    </tr>\n",
        "  </tbody>\n",
        "</table>\n",
        "</div>"
       ],
       "metadata": {},
       "output_type": "pyout",
       "prompt_number": 15,
       "text": [
        "          ItemID  Sentiment SentimentSource  \\\n",
        "1578602  1578618          0    Sentiment140   \n",
        "1578603  1578619          1    Sentiment140   \n",
        "1578604  1578620          1    Sentiment140   \n",
        "1578605  1578621          1    Sentiment140   \n",
        "1578606  1578622          0    Sentiment140   \n",
        "1578607  1578623          1    Sentiment140   \n",
        "1578608  1578624          1    Sentiment140   \n",
        "1578609  1578625          0    Sentiment140   \n",
        "1578610  1578626          0    Sentiment140   \n",
        "1578611  1578627          0    Sentiment140   \n",
        "\n",
        "                                                                                                                           SentimentText  \n",
        "1578602     Zzzz lying in bed watching the countryside through my window. Last day of freedom  gonna make an incred bacon sandwich...     \n",
        "1578603                                                                                    Zzzz... Fuck \u00c3\u00bc : Zzzz... Fuck \u00c3\u00bc  ||url||     \n",
        "1578604                                                                                             Zzzz...no work tomorrow..yayyy!!      \n",
        "1578605                                         ZZZZZ time.. Tomorrow will be a busy day for serving &amp; loving people! Luv y'all!      \n",
        "1578606                                                                         Zzzzz want to sleep but at sister's in-laws's house.      \n",
        "1578607                                                                                          Zzzzzz.... Finally! Night tweeters!      \n",
        "1578608                                                                                                   Zzzzzzz, sleep well people      \n",
        "1578609                                                                                       ZzzZzZzzzZ... wait no I have homework.      \n",
        "1578610                                                                                 ZzZzzzZZZZzzz meh, what am I doing up again?      \n",
        "1578611                                                                                                  Zzzzzzzzzzzzzzzzzzz, I wish      "
       ]
      }
     ],
     "prompt_number": 15
    },
    {
     "cell_type": "markdown",
     "metadata": {},
     "source": [
      "#### 3) Remove Unicode characteres\n",
      "We remove unicode characteres since they can cause problems during the tokenization process. We keep only ASCII characteres."
     ]
    },
    {
     "cell_type": "code",
     "collapsed": false,
     "input": [
      "def remove_unicode(string):\n",
      "    try:\n",
      "        string = string.decode('unicode_escape').encode('ascii','ignore')\n",
      "    except UnicodeDecodeError:\n",
      "        pass\n",
      "    return string\n",
      "\n",
      "data.SentimentText = data.SentimentText.apply(lambda tweet: remove_unicode(tweet))\n",
      "data.tail(10)"
     ],
     "language": "python",
     "metadata": {},
     "outputs": [
      {
       "html": [
        "<div style=\"max-height:1000px;max-width:1500px;overflow:auto;\">\n",
        "<table border=\"1\" class=\"dataframe\">\n",
        "  <thead>\n",
        "    <tr style=\"text-align: right;\">\n",
        "      <th></th>\n",
        "      <th>ItemID</th>\n",
        "      <th>Sentiment</th>\n",
        "      <th>SentimentSource</th>\n",
        "      <th>SentimentText</th>\n",
        "    </tr>\n",
        "  </thead>\n",
        "  <tbody>\n",
        "    <tr>\n",
        "      <th>1578602</th>\n",
        "      <td>1578618</td>\n",
        "      <td>0</td>\n",
        "      <td>Sentiment140</td>\n",
        "      <td>Zzzz lying in bed watching the countryside through my window. Last day of freedom  gonna make an incred bacon sandwich...</td>\n",
        "    </tr>\n",
        "    <tr>\n",
        "      <th>1578603</th>\n",
        "      <td>1578619</td>\n",
        "      <td>1</td>\n",
        "      <td>Sentiment140</td>\n",
        "      <td>Zzzz... Fuck  : Zzzz... Fuck   ||url||</td>\n",
        "    </tr>\n",
        "    <tr>\n",
        "      <th>1578604</th>\n",
        "      <td>1578620</td>\n",
        "      <td>1</td>\n",
        "      <td>Sentiment140</td>\n",
        "      <td>Zzzz...no work tomorrow..yayyy!!</td>\n",
        "    </tr>\n",
        "    <tr>\n",
        "      <th>1578605</th>\n",
        "      <td>1578621</td>\n",
        "      <td>1</td>\n",
        "      <td>Sentiment140</td>\n",
        "      <td>ZZZZZ time.. Tomorrow will be a busy day for serving &amp;amp; loving people! Luv y'all!</td>\n",
        "    </tr>\n",
        "    <tr>\n",
        "      <th>1578606</th>\n",
        "      <td>1578622</td>\n",
        "      <td>0</td>\n",
        "      <td>Sentiment140</td>\n",
        "      <td>Zzzzz want to sleep but at sister's in-laws's house.</td>\n",
        "    </tr>\n",
        "    <tr>\n",
        "      <th>1578607</th>\n",
        "      <td>1578623</td>\n",
        "      <td>1</td>\n",
        "      <td>Sentiment140</td>\n",
        "      <td>Zzzzzz.... Finally! Night tweeters!</td>\n",
        "    </tr>\n",
        "    <tr>\n",
        "      <th>1578608</th>\n",
        "      <td>1578624</td>\n",
        "      <td>1</td>\n",
        "      <td>Sentiment140</td>\n",
        "      <td>Zzzzzzz, sleep well people</td>\n",
        "    </tr>\n",
        "    <tr>\n",
        "      <th>1578609</th>\n",
        "      <td>1578625</td>\n",
        "      <td>0</td>\n",
        "      <td>Sentiment140</td>\n",
        "      <td>ZzzZzZzzzZ... wait no I have homework.</td>\n",
        "    </tr>\n",
        "    <tr>\n",
        "      <th>1578610</th>\n",
        "      <td>1578626</td>\n",
        "      <td>0</td>\n",
        "      <td>Sentiment140</td>\n",
        "      <td>ZzZzzzZZZZzzz meh, what am I doing up again?</td>\n",
        "    </tr>\n",
        "    <tr>\n",
        "      <th>1578611</th>\n",
        "      <td>1578627</td>\n",
        "      <td>0</td>\n",
        "      <td>Sentiment140</td>\n",
        "      <td>Zzzzzzzzzzzzzzzzzzz, I wish</td>\n",
        "    </tr>\n",
        "  </tbody>\n",
        "</table>\n",
        "</div>"
       ],
       "metadata": {},
       "output_type": "pyout",
       "prompt_number": 16,
       "text": [
        "          ItemID  Sentiment SentimentSource  \\\n",
        "1578602  1578618          0    Sentiment140   \n",
        "1578603  1578619          1    Sentiment140   \n",
        "1578604  1578620          1    Sentiment140   \n",
        "1578605  1578621          1    Sentiment140   \n",
        "1578606  1578622          0    Sentiment140   \n",
        "1578607  1578623          1    Sentiment140   \n",
        "1578608  1578624          1    Sentiment140   \n",
        "1578609  1578625          0    Sentiment140   \n",
        "1578610  1578626          0    Sentiment140   \n",
        "1578611  1578627          0    Sentiment140   \n",
        "\n",
        "                                                                                                                           SentimentText  \n",
        "1578602     Zzzz lying in bed watching the countryside through my window. Last day of freedom  gonna make an incred bacon sandwich...     \n",
        "1578603                                                                                        Zzzz... Fuck  : Zzzz... Fuck   ||url||     \n",
        "1578604                                                                                             Zzzz...no work tomorrow..yayyy!!      \n",
        "1578605                                         ZZZZZ time.. Tomorrow will be a busy day for serving &amp; loving people! Luv y'all!      \n",
        "1578606                                                                         Zzzzz want to sleep but at sister's in-laws's house.      \n",
        "1578607                                                                                          Zzzzzz.... Finally! Night tweeters!      \n",
        "1578608                                                                                                   Zzzzzzz, sleep well people      \n",
        "1578609                                                                                       ZzzZzZzzzZ... wait no I have homework.      \n",
        "1578610                                                                                 ZzZzzzZZZZzzz meh, what am I doing up again?      \n",
        "1578611                                                                                                  Zzzzzzzzzzzzzzzzzzz, I wish      "
       ]
      }
     ],
     "prompt_number": 16
    },
    {
     "cell_type": "markdown",
     "metadata": {},
     "source": [
      "#### 4) Decode HTML entities\n",
      "Simply decode HTML entities."
     ]
    },
    {
     "cell_type": "code",
     "collapsed": false,
     "input": [
      "import HTMLParser\n",
      "\n",
      "html_parser = HTMLParser.HTMLParser()\n",
      "# Convert tweets in unicode utf-8 to avoid mixing unicode with ascii and causing an error during unescape\n",
      "data.SentimentText = data.SentimentText.apply(lambda tweet: html_parser.unescape(tweet))\n",
      "data.SentimentText[599982]"
     ],
     "language": "python",
     "metadata": {},
     "outputs": [
      {
       "metadata": {},
       "output_type": "pyout",
       "prompt_number": 17,
       "text": [
        "u'   Cannot get chatroom feature to work.   Updated Java to 10, checked ports, etc. I can see video, but in the \"chat,\" only a spinning circle.   '"
       ]
      }
     ],
     "prompt_number": 17
    },
    {
     "cell_type": "markdown",
     "metadata": {},
     "source": [
      "#### 5) Reduce all letters to lower case\n",
      "This is part is extremely simple, we just transform all tweets to lower case in order to make easier the next operations with the acronym and stop dictionaries and more generally, to make easier comparisons. We should take care of proper noun but for simplicity we skip this."
     ]
    },
    {
     "cell_type": "code",
     "collapsed": false,
     "input": [
      "data.SentimentText = data.SentimentText.str.lower()\n",
      "data.head(10)"
     ],
     "language": "python",
     "metadata": {},
     "outputs": [
      {
       "html": [
        "<div style=\"max-height:1000px;max-width:1500px;overflow:auto;\">\n",
        "<table border=\"1\" class=\"dataframe\">\n",
        "  <thead>\n",
        "    <tr style=\"text-align: right;\">\n",
        "      <th></th>\n",
        "      <th>ItemID</th>\n",
        "      <th>Sentiment</th>\n",
        "      <th>SentimentSource</th>\n",
        "      <th>SentimentText</th>\n",
        "    </tr>\n",
        "  </thead>\n",
        "  <tbody>\n",
        "    <tr>\n",
        "      <th>0</th>\n",
        "      <td>1</td>\n",
        "      <td>0</td>\n",
        "      <td>Sentiment140</td>\n",
        "      <td>is so sad for my apl friend.............</td>\n",
        "    </tr>\n",
        "    <tr>\n",
        "      <th>1</th>\n",
        "      <td>2</td>\n",
        "      <td>0</td>\n",
        "      <td>Sentiment140</td>\n",
        "      <td>i missed the new moon trailer...</td>\n",
        "    </tr>\n",
        "    <tr>\n",
        "      <th>2</th>\n",
        "      <td>3</td>\n",
        "      <td>1</td>\n",
        "      <td>Sentiment140</td>\n",
        "      <td>omg its already 7:30 ||pos||</td>\n",
        "    </tr>\n",
        "    <tr>\n",
        "      <th>3</th>\n",
        "      <td>4</td>\n",
        "      <td>0</td>\n",
        "      <td>Sentiment140</td>\n",
        "      <td>.. omgaga. im sooo  im gunna cry. i've been at this dentist since 11.. i was suposed 2 just get a crown put on (30mins)...</td>\n",
        "    </tr>\n",
        "    <tr>\n",
        "      <th>4</th>\n",
        "      <td>5</td>\n",
        "      <td>0</td>\n",
        "      <td>Sentiment140</td>\n",
        "      <td>i think mi bf is cheating on me!!!       ||neg||</td>\n",
        "    </tr>\n",
        "    <tr>\n",
        "      <th>5</th>\n",
        "      <td>6</td>\n",
        "      <td>0</td>\n",
        "      <td>Sentiment140</td>\n",
        "      <td>or i just worry too much?</td>\n",
        "    </tr>\n",
        "    <tr>\n",
        "      <th>6</th>\n",
        "      <td>7</td>\n",
        "      <td>1</td>\n",
        "      <td>Sentiment140</td>\n",
        "      <td>juuuuuuuuuuuuuuuuussssst chillin!!</td>\n",
        "    </tr>\n",
        "    <tr>\n",
        "      <th>7</th>\n",
        "      <td>8</td>\n",
        "      <td>0</td>\n",
        "      <td>Sentiment140</td>\n",
        "      <td>sunny again        work tomorrow  ||neg||       tv tonight</td>\n",
        "    </tr>\n",
        "    <tr>\n",
        "      <th>8</th>\n",
        "      <td>9</td>\n",
        "      <td>1</td>\n",
        "      <td>Sentiment140</td>\n",
        "      <td>handed in my uniform today . i miss you already</td>\n",
        "    </tr>\n",
        "    <tr>\n",
        "      <th>9</th>\n",
        "      <td>10</td>\n",
        "      <td>1</td>\n",
        "      <td>Sentiment140</td>\n",
        "      <td>hmmmm.... i wonder how she my number ||pos||</td>\n",
        "    </tr>\n",
        "  </tbody>\n",
        "</table>\n",
        "</div>"
       ],
       "metadata": {},
       "output_type": "pyout",
       "prompt_number": 18,
       "text": [
        "   ItemID  Sentiment SentimentSource  \\\n",
        "0       1          0    Sentiment140   \n",
        "1       2          0    Sentiment140   \n",
        "2       3          1    Sentiment140   \n",
        "3       4          0    Sentiment140   \n",
        "4       5          0    Sentiment140   \n",
        "5       6          0    Sentiment140   \n",
        "6       7          1    Sentiment140   \n",
        "7       8          0    Sentiment140   \n",
        "8       9          1    Sentiment140   \n",
        "9      10          1    Sentiment140   \n",
        "\n",
        "                                                                                                                                SentimentText  \n",
        "0                                                                                                 is so sad for my apl friend.............     \n",
        "1                                                                                                         i missed the new moon trailer...     \n",
        "2                                                                                                             omg its already 7:30 ||pos||     \n",
        "3               .. omgaga. im sooo  im gunna cry. i've been at this dentist since 11.. i was suposed 2 just get a crown put on (30mins)...     \n",
        "4                                                                                         i think mi bf is cheating on me!!!       ||neg||     \n",
        "5                                                                                                        or i just worry too much?             \n",
        "6                                                                                                       juuuuuuuuuuuuuuuuussssst chillin!!     \n",
        "7                                                                               sunny again        work tomorrow  ||neg||       tv tonight     \n",
        "8                                                                                          handed in my uniform today . i miss you already     \n",
        "9                                                                                             hmmmm.... i wonder how she my number ||pos||     "
       ]
      }
     ],
     "prompt_number": 18
    },
    {
     "cell_type": "markdown",
     "metadata": {},
     "source": [
      "#### 6) Replace all usernames/targets @ with the tag ||target||\n",
      "Since we don't need to take into account usernames in order to determine the sentiment of a tweet we replace them by the tag ||target||."
     ]
    },
    {
     "cell_type": "code",
     "collapsed": false,
     "input": [
      "pattern_usernames = \"@\\w{1,}\"\n",
      "usernames_found = find_with_pattern(pattern_usernames)\n",
      "len(data.SentimentText[usernames_found.apply(lambda usernames : len(usernames) > 0)])"
     ],
     "language": "python",
     "metadata": {},
     "outputs": [
      {
       "metadata": {},
       "output_type": "pyout",
       "prompt_number": 19,
       "text": [
        "735757"
       ]
      }
     ],
     "prompt_number": 19
    },
    {
     "cell_type": "code",
     "collapsed": false,
     "input": [
      "data.SentimentText = find_with_pattern(pattern_usernames, True, '||target||')\n",
      "data.SentimentText[46]"
     ],
     "language": "python",
     "metadata": {},
     "outputs": [
      {
       "metadata": {},
       "output_type": "pyout",
       "prompt_number": 20,
       "text": [
        "'      ||target|| ||target||  it really makes me sad when i look at muslims reality now    '"
       ]
      }
     ],
     "prompt_number": 20
    },
    {
     "cell_type": "markdown",
     "metadata": {},
     "source": [
      "#### 7) Replace all acronyms with their translation\n",
      "Next, we replace all acronyms with their translation using the acronym dictionary.  \n",
      "**At this point, tweets are going to be tokenized by getting rid of the punctuation and using split in order to do the process really fast. We could use nltk.tokenizer but it is definitly much much slower but also much more precise.**  \n",
      "Furthermore the replacements will not be perfect, a simple example is the acronym \"im\" meaning \"instant message\". It would not be surprising that in most of the cases, \"im\" means \"I am\". We will do some adjustements later to see if we can improve our results."
     ]
    },
    {
     "cell_type": "code",
     "collapsed": false,
     "input": [
      "import string\n",
      "from collections import Counter\n",
      "\n",
      "# Create a dictionary of acronym which will be used to get translations\n",
      "acronym_dictionary = dict(zip(acronyms.Acronym, acronyms.Translation))\n",
      "\n",
      "# Will be used to get rid of the punctuation in tweets (does not include | since we use it for our tokens and ' \n",
      "# to take care of don't, can't)\n",
      "punctuation = '!\"#$%&()*+,-./:;<=>?@[\\\\]^_`{}~'\n",
      "\n",
      "# Frequency table for acronyms\n",
      "acronyms_counter = Counter()\n",
      "\n",
      "# Loop on acronyms to replace those matched in the tweet by the corresponding translations\n",
      "# Return the tweet and the acronyms used\n",
      "def acronym_to_translation(tweet, acronyms_counter):\n",
      "    table = string.maketrans(punctuation,\" \" * len(punctuation))\n",
      "    tweet = str(tweet).translate(table)\n",
      "    words = tweet.split()\n",
      "    new_words = []\n",
      "    for i, word in enumerate(words):\n",
      "        if acronym_dictionary.has_key(word):\n",
      "            acronyms_counter[word] += 1\n",
      "            new_words.extend(acronym_dictionary[word].split())\n",
      "        else:\n",
      "            new_words.append(word)\n",
      "    return new_words\n",
      "\n",
      "data.SentimentText = data.SentimentText.apply(lambda tweet: acronym_to_translation(tweet, acronyms_counter))\n",
      "\n",
      "# Get and display top20 acronyms\n",
      "top20acronyms = acronyms_counter.most_common(20)\n",
      "top20acronyms"
     ],
     "language": "python",
     "metadata": {},
     "outputs": [
      {
       "metadata": {},
       "output_type": "pyout",
       "prompt_number": 21,
       "text": [
        "[('lol', 59000),\n",
        " ('u', 54557),\n",
        " ('im', 51099),\n",
        " ('2', 42645),\n",
        " ('gonna', 23716),\n",
        " ('4', 18610),\n",
        " ('dont', 18363),\n",
        " ('wanna', 16357),\n",
        " ('ok', 16104),\n",
        " ('ur', 12960),\n",
        " ('omg', 12178),\n",
        " ('n', 10415),\n",
        " ('ya', 9948),\n",
        " ('gotta', 9243),\n",
        " ('r', 8132),\n",
        " ('tho', 7696),\n",
        " ('tv', 6246),\n",
        " ('o', 6002),\n",
        " ('kinda', 5953),\n",
        " ('pic', 5945)]"
       ]
      }
     ],
     "prompt_number": 21
    },
    {
     "cell_type": "code",
     "collapsed": false,
     "input": [
      "# Just to better visualize the top 20 acronym\n",
      "for i, (acronym, value) in enumerate(top20acronyms):\n",
      "    print str(i + 1) + \") \" + acronym + \" => \" + acronym_dictionary[acronym] + \" : \" + str(value) "
     ],
     "language": "python",
     "metadata": {},
     "outputs": [
      {
       "output_type": "stream",
       "stream": "stdout",
       "text": [
        "1) lol => laughing out loud : 59000\n",
        "2) u => you : 54557\n",
        "3) im => instant message : 51099\n",
        "4) 2 => too : 42645\n",
        "5) gonna => going to : 23716\n",
        "6) 4 => for : 18610\n",
        "7) dont => don't : 18363\n",
        "8) wanna => want to : 16357\n",
        "9) ok => okay : 16104\n",
        "10) ur => your : 12960\n",
        "11) omg => oh my god : 12178\n",
        "12) n => and : 10415\n",
        "13) ya => yeah : 9948\n",
        "14) gotta => got to : 9243\n",
        "15) r => are : 8132\n",
        "16) tho => though : 7696\n",
        "17) tv => television : 6246\n",
        "18) o => oh : 6002\n",
        "19) kinda => kind of : 5953\n",
        "20) pic => picture : 5945\n"
       ]
      }
     ],
     "prompt_number": 22
    },
    {
     "cell_type": "code",
     "collapsed": false,
     "input": [
      "# With a bar plot\n",
      "plt.close()\n",
      "top20acronym_keys = [x[0] for x in top20acronyms]\n",
      "top20acronym_values = [x[1] for x in top20acronyms]\n",
      "indexes = np.arange(len(top20acronym_keys))\n",
      "width = 0.7\n",
      "plt.bar(indexes, top20acronym_values, width)\n",
      "plt.xticks(indexes + width * 0.5, top20acronym_keys, rotation=\"vertical\")"
     ],
     "language": "python",
     "metadata": {},
     "outputs": [
      {
       "metadata": {},
       "output_type": "pyout",
       "prompt_number": 23,
       "text": [
        "([<matplotlib.axis.XTick at 0x15be09890>,\n",
        "  <matplotlib.axis.XTick at 0x15be099d0>,\n",
        "  <matplotlib.axis.XTick at 0x15d2a3c90>,\n",
        "  <matplotlib.axis.XTick at 0x149d611d0>,\n",
        "  <matplotlib.axis.XTick at 0x149d61910>,\n",
        "  <matplotlib.axis.XTick at 0x149fa9110>,\n",
        "  <matplotlib.axis.XTick at 0x149fa9850>,\n",
        "  <matplotlib.axis.XTick at 0x149fa9f90>,\n",
        "  <matplotlib.axis.XTick at 0x14a06c810>,\n",
        "  <matplotlib.axis.XTick at 0x14a06ce90>,\n",
        "  <matplotlib.axis.XTick at 0x14a8ca750>,\n",
        "  <matplotlib.axis.XTick at 0x14a8cadd0>,\n",
        "  <matplotlib.axis.XTick at 0x14aa49550>,\n",
        "  <matplotlib.axis.XTick at 0x14aa49cd0>,\n",
        "  <matplotlib.axis.XTick at 0x14ab01410>,\n",
        "  <matplotlib.axis.XTick at 0x14ab01b90>,\n",
        "  <matplotlib.axis.XTick at 0x15360e710>,\n",
        "  <matplotlib.axis.XTick at 0x153c57890>,\n",
        "  <matplotlib.axis.XTick at 0x15be14850>,\n",
        "  <matplotlib.axis.XTick at 0x153229050>],\n",
        " <a list of 20 Text xticklabel objects>)"
       ]
      },
      {
       "metadata": {},
       "output_type": "display_data",
       "png": "[encoded data removed]",
       "text": [
        "<matplotlib.figure.Figure at 0x15d2a3d10>"
       ]
      }
     ],
     "prompt_number": 23
    },
    {
     "cell_type": "markdown",
     "metadata": {},
     "source": [
      "#### Replace all negations (e.g: not, no, never) by tag ||not||\n",
      "We replace all negations such as not, no, don't and so on, using the negation dictionary in order to take more or less of sentences like \"I don't like it\". Here like should no be considered as positive because of the \"don't\" before. To do so we will replace \"don't\" by ||not|| and the word like will not be counted as positive.  \n",
      "In general, **each time a negation is encountered, the following words contained in the positive and negative word dictionaries will be reversed, postive => negative, negative => positive, we will do this when we will try to find posivite and negative words**."
     ]
    },
    {
     "cell_type": "code",
     "collapsed": false,
     "input": [
      "# Transform the dataframe into a dictionary\n",
      "negation_dictionary = dict(zip(negation_dictionary.Negation, negation_dictionary.Tag))\n",
      "\n",
      "# Find a negation in a tweet and replace it by its tag\n",
      "def replace_negation(tweet):\n",
      "    return [negation_dictionary[word] if negation_dictionary.has_key(word) else word for word in tweet]\n",
      "    \n",
      "# Apply the function on every tweet\n",
      "data.SentimentText = data.SentimentText.apply(lambda tweet: replace_negation(tweet))\n",
      "print data.SentimentText[29]"
     ],
     "language": "python",
     "metadata": {},
     "outputs": [
      {
       "output_type": "stream",
       "stream": "stdout",
       "text": [
        "['i', '||not||', 'realize', 'it', 'was', 'that', 'deep', 'geez', 'give', 'a', 'girl', 'a', 'warning', 'atleast']\n"
       ]
      }
     ],
     "prompt_number": 24
    },
    {
     "cell_type": "markdown",
     "metadata": {},
     "source": [
      "#### Remove all stop words since they are not useful (After negation)\n",
      "Recall that stop words usually refer to the most common words in language such as: \"the\", \"of\" and so on, they do not indicate any valuable information about the sentiment of a sentence. Therefore it is necessary to remove them from the tweets in order to keep only words for which we are interested."
     ]
    },
    {
     "cell_type": "code",
     "collapsed": false,
     "input": [
      "# We build a word frequency table to see which words are the most used\n",
      "word_frequency_table = Counter()\n",
      "\n",
      "def count_word(tweet):\n",
      "    for word in tweet:\n",
      "        word_frequency_table[word] += 1\n",
      "    return tweet\n",
      "\n",
      "data.SentimentText.map(lambda tweet: count_word(tweet))\n",
      "word_frequency_table.most_common()[:20]"
     ],
     "language": "python",
     "metadata": {},
     "outputs": [
      {
       "metadata": {},
       "output_type": "pyout",
       "prompt_number": 25,
       "text": [
        "[('||target||', 780663),\n",
        " ('i', 778070),\n",
        " ('to', 614954),\n",
        " ('the', 538566),\n",
        " ('||not||', 414873),\n",
        " ('a', 383910),\n",
        " ('you', 341545),\n",
        " ('my', 336980),\n",
        " ('and', 316853),\n",
        " ('is', 236393),\n",
        " ('for', 236018),\n",
        " ('it', 235435),\n",
        " ('in', 217350),\n",
        " ('of', 192621),\n",
        " ('on', 169466),\n",
        " ('me', 163900),\n",
        " ('so', 158457),\n",
        " ('have', 150041),\n",
        " ('that', 146260),\n",
        " ('out', 143567)]"
       ]
      }
     ],
     "prompt_number": 25
    },
    {
     "cell_type": "markdown",
     "metadata": {},
     "source": [
      "As we expected, the most common words are \"i\", \"to\", \"the\", \"a\" etc.  \n",
      "Another interesting fact is that we can derive from this word frequency table, the statistics about our tokens."
     ]
    },
    {
     "cell_type": "code",
     "collapsed": false,
     "input": [
      "# list of tags\n",
      "tags = ['||target||', '||url||', '||pos||', '||neg||', '||not||']\n",
      "\n",
      "# list of tuples representing tags with their corresponding count\n",
      "tag_counter = [(w, c) for w,c in word_frequency_table.iteritems() if w in tags]\n",
      "\n",
      "print tag_counter"
     ],
     "language": "python",
     "metadata": {},
     "outputs": [
      {
       "output_type": "stream",
       "stream": "stdout",
       "text": [
        "[('||url||', 75415), ('||target||', 780663), ('||not||', 414873), ('||neg||', 11520), ('||pos||', 20232)]\n"
       ]
      }
     ],
     "prompt_number": 27
    },
    {
     "cell_type": "code",
     "collapsed": false,
     "input": [
      "plt.close()\n",
      "tag_counter_keys = [x[0] for x in tag_counter]\n",
      "tag_counter_values = [x[1] for x in tag_counter]\n",
      "indexes = np.arange(len(tag_counter_keys))\n",
      "width = 0.7\n",
      "plt.bar(indexes, tag_counter_values, width)\n",
      "plt.xticks(indexes + width * 0.5, tag_counter_keys, rotation=\"vertical\")"
     ],
     "language": "python",
     "metadata": {},
     "outputs": [
      {
       "metadata": {},
       "output_type": "pyout",
       "prompt_number": 28,
       "text": [
        "([<matplotlib.axis.XTick at 0x143f87510>,\n",
        "  <matplotlib.axis.XTick at 0x14bc16910>,\n",
        "  <matplotlib.axis.XTick at 0x14b233250>,\n",
        "  <matplotlib.axis.XTick at 0x14cacf1d0>,\n",
        "  <matplotlib.axis.XTick at 0x14cacf950>],\n",
        " <a list of 5 Text xticklabel objects>)"
       ]
      },
      {
       "metadata": {},
       "output_type": "display_data",
       "png": "[encoded data removed]",
       "text": [
        "<matplotlib.figure.Figure at 0x14b233090>"
       ]
      }
     ],
     "prompt_number": 28
    },
    {
     "cell_type": "code",
     "collapsed": false,
     "input": [
      "# Transform the dataframe into a dictionary\n",
      "stopword_dictionary = dict.fromkeys(stops.Word, None)\n",
      "\n",
      "# Remove stopword from tweets\n",
      "def remove_stopwords(tweet):\n",
      "    tweet = [stopword_dictionary[word] if stopword_dictionary.has_key(word) else word for word in tweet]\n",
      "    return [word for word in tweet if word]\n",
      "\n",
      "data.SentimentText = data.SentimentText.apply(lambda tweet: remove_stopwords(tweet))\n",
      "data.SentimentText.head(20)"
     ],
     "language": "python",
     "metadata": {},
     "outputs": [
      {
       "metadata": {},
       "output_type": "pyout",
       "prompt_number": 35,
       "text": [
        "0                                                                                              [sad, apl, friend]\n",
        "1                                                                                         [missed, moon, trailer]\n",
        "2                                                                                           [god, 7, 30, ||pos||]\n",
        "3     [omgaga, instant, message, sooo, instant, message, gunna, cry, dentist, 11, suposed, a, crown, put, 30mins]\n",
        "4                                                                              [mi, boyfriend, cheating, ||neg||]\n",
        "5                                                                                                         [worry]\n",
        "6                                                                            [juuuuuuuuuuuuuuuuussssst, relaxing]\n",
        "7                                                           [sunny, work, tomorrow, ||neg||, television, tonight]\n",
        "8                                                                                        [handed, uniform, today]\n",
        "9                                                                                        [hmmmm, number, ||pos||]\n",
        "10                                                                                                     [positive]\n",
        "11                                                                                  [haters, face, day, 112, 102]\n",
        "12                                                                                              [weekend, sucked]\n",
        "13                                                                           [jailbait, isnt, showing, australia]\n",
        "14                                                                                                          [win]\n",
        "15                                                                                                         [feel]\n",
        "16                                                 [awhhe, man, completely, useless, rt, funny, twitter, ||url||]\n",
        "17                                                       [feeling, strangely, fine, listen, semisonic, celebrate]\n",
        "18                                                                                   [huge, roll, thunder, scary]\n",
        "19                                                       [cut, beard, growing, a, year, start, ||target||, happy]\n",
        "Name: SentimentText, dtype: object"
       ]
      }
     ],
     "prompt_number": 35
    },
    {
     "cell_type": "code",
     "collapsed": false,
     "input": [
      "# Most common words after deleting stop words\n",
      "word_frequency_table = Counter()\n",
      "\n",
      "data.SentimentText.map(lambda tweet: count_word(tweet))\n",
      "word_frequency_table.most_common()[:20]"
     ],
     "language": "python",
     "metadata": {},
     "outputs": [
      {
       "metadata": {},
       "output_type": "pyout",
       "prompt_number": 36,
       "text": [
        "[('||target||', 780663),\n",
        " ('||not||', 414873),\n",
        " ('a', 383910),\n",
        " ('good', 93695),\n",
        " ('day', 84996),\n",
        " ('like', 78959),\n",
        " ('||url||', 75415),\n",
        " ('today', 68974),\n",
        " ('love', 68600),\n",
        " ('laughing', 66411),\n",
        " ('work', 64029),\n",
        " ('loud', 61141),\n",
        " ('time', 57864),\n",
        " ('message', 54279),\n",
        " ('instant', 52222),\n",
        " ('night', 47055),\n",
        " ('home', 39879),\n",
        " ('yeah', 36746),\n",
        " ('tomorrow', 36206),\n",
        " ('great', 34086)]"
       ]
      }
     ],
     "prompt_number": 36
    },
    {
     "cell_type": "markdown",
     "metadata": {},
     "source": [
      "#### Stemming words using NLTK\n",
      "Stemming is the process by which endings are removed from words in order to remove things like tense or plurality. It's not appropriate for all cases but can make it easier to connect together tenses to see if you're covering the same subject matter. It is faster than Lemmatization."
     ]
    },
    {
     "cell_type": "code",
     "collapsed": false,
     "input": [
      "import nltk\n",
      "\n",
      "pstemmer = nltk.PorterStemmer()"
     ],
     "language": "python",
     "metadata": {},
     "outputs": [],
     "prompt_number": 38
    },
    {
     "cell_type": "code",
     "collapsed": false,
     "input": [
      "def stemming_words(tweet):\n",
      "    return [pstemmer.stem_word(word) if word not in tags else word for word in tweet]\n",
      "\n",
      "data.SentimentText = data.SentimentText.apply(lambda tweet: stemming_words(tweet))\n",
      "data.SentimentText.head(20)"
     ],
     "language": "python",
     "metadata": {},
     "outputs": [
      {
       "metadata": {},
       "output_type": "pyout",
       "prompt_number": 39,
       "text": [
        "0                                                                                        [sad, apl, friend]\n",
        "1                                                                                     [miss, moon, trailer]\n",
        "2                                                                                     [god, 7, 30, ||pos||]\n",
        "3    [omgaga, instant, messag, sooo, instant, messag, gunna, cri, dentist, 11, supos, a, crown, put, 30min]\n",
        "4                                                                           [mi, boyfriend, cheat, ||neg||]\n",
        "5                                                                                                   [worri]\n",
        "6                                                                         [juuuuuuuuuuuuuuuuussssst, relax]\n",
        "7                                                        [sunni, work, tomorrow, ||neg||, televis, tonight]\n",
        "8                                                                                    [hand, uniform, today]\n",
        "9                                                                                  [hmmmm, number, ||pos||]\n",
        "Name: SentimentText, dtype: object"
       ]
      }
     ],
     "prompt_number": 39
    },
    {
     "cell_type": "markdown",
     "metadata": {},
     "source": [
      "We apply stemming on negative and positive word dictionaries as well and check if there is no collision between positive and negative stem word forms.\n"
     ]
    },
    {
     "cell_type": "markdown",
     "metadata": {},
     "source": [
      "####  Replace a sequence of repeated characters by two caracters  \n",
      "There are many words containing repeated sequences of charaters usually used to emphasize a word.  \n",
      "We are going to reduce the number of repeated charaters in order to potentially reduce the feature space (the words in our case) and keep their emphasized aspect."
     ]
    },
    {
     "cell_type": "code",
     "collapsed": false,
     "input": [
      "pattern = re.compile(r'(.)\\1*')\n",
      "\n",
      "def reduce_sequence_word(word):\n",
      "    return ''.join([match.group()[:2] if len(match.group()) > 2 else match.group() for match in pattern.finditer(word)])\n",
      "\n",
      "def reduce_sequence_tweet(tweet):\n",
      "    return [reduce_sequence_word(word) for word in tweet]\n",
      "\n",
      "data.SentimentText = data.SentimentText.apply(lambda tweet: reduce_sequence_tweet(tweet))\n",
      "data.SentimentText.tail(20)"
     ],
     "language": "python",
     "metadata": {},
     "outputs": [
      {
       "metadata": {},
       "output_type": "pyout",
       "prompt_number": 41,
       "text": [
        "1578592                                                                         ['zu, spt', die, rzte, band]\n",
        "1578593                                                 [zuma, bitch, tomorrow, a, wonder, night, goodnight]\n",
        "1578594                                                       [zummie', couch, tour, amaz, bad, leav, earli]\n",
        "1578595    [zunehd, great, ole, screen, ||target||, hdmi, issu, iphon, ipod, a, phone, ill, buy, ||target||]\n",
        "1578596                                                                        [up?, learn, a, magic, trick]\n",
        "1578597                                                                               [zyklon, shower, evil]\n",
        "1578598                                              [zz, top, ||target||, music, ear, s, a, fabul, ||url||]\n",
        "1578599                                                                                  [zz, time, love, b]\n",
        "1578600         [zz, twitter, good, day, today, a, lot, accomplish, imstorm, w, girl, dress, shop, tomorrow]\n",
        "1578601                                                                      [zz', time, goodnight, ||url||]\n",
        "1578602                       [zz, lie, bed, watch, countrysid, window, day, freedom, incr, bacon, sandwich]\n",
        "1578603                                                                        [zz, fuck, zz, fuck, ||url||]\n",
        "1578604                                                                  [zz, ||not||, work, tomorrow, yayy]\n",
        "1578605                                          [zz, time, tomorrow, a, busi, day, serv, love, peopl, love]\n",
        "1578606                                                                    [zz, sleep, sister', laws', hous]\n",
        "1578607                                                                          [zz, final, night, tweeter]\n",
        "1578608                                                                                   [zz, sleep, peopl]\n",
        "1578609                                                                        [zz, wait, ||not||, homework]\n",
        "1578610                                                                                                 [zz]\n",
        "1578611                                                                                                 [zz]\n",
        "Name: SentimentText, dtype: object"
       ]
      }
     ],
     "prompt_number": 41
    },
    {
     "cell_type": "markdown",
     "metadata": {},
     "source": [
      "6. Machine Learning\n",
      "-------------\n",
      "Once we have applied the different steps of the preprocessing part, we can now focus on the machine learning part.  \n",
      "The first thing to do is to create our features that are going to be used by the learning algorithm.  \n",
      "We are going to use **language models, that are models assigning probabilities to sequence of tokens**, and more particularly, a kind of language models named N-Gram models.  \n",
      "An **N-Gram model** is a type of probabilistic language model for predicting the next item in such a sequence in the form of (n - 1) order Markov Model.  \n",
      "There are several kind of n-gram but the most common are the unigram, bigram and trigram.  \n",
      "The **unigram model** make the assumption that **every word is independent** and so we compute the probability of a sequence using the following formula:  \n",
      "\n",
      "$$\n",
      "P(w_1, w_2, ..., w_n) = \\prod_i P(w_i)\n",
      "$$\n",
      "\n",
      "In the case of the **bigram model** we make the assumption that **a word is dependent of its previous word**:  \n",
      "\n",
      "$$\n",
      "P(w_i | w_1, w_2, ..., w_{i-1}) \\approx P(w_i | w_{i-1})\n",
      "$$\n",
      "\n",
      "To estimate the n-gram probabilities, we want to maximize "
     ]
    }
   ],
   "metadata": {}
  }
 ]
}